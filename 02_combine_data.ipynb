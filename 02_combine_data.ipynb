{
 "cells": [
  {
   "cell_type": "markdown",
   "id": "144a3705-c061-43e0-a692-0b2161961b56",
   "metadata": {},
   "source": [
    "## Combine Cleaned Data\n",
    "\n",
    "Finally, we combine all cleaned years into a single dataset for modeling."
   ]
  },
  {
   "cell_type": "code",
   "execution_count": 1,
   "id": "aace622f-a850-40d4-861b-af38db096e1b",
   "metadata": {},
   "outputs": [],
   "source": [
    "import pandas as pd\n",
    "import glob\n",
    "import os"
   ]
  },
  {
   "cell_type": "code",
   "execution_count": 2,
   "id": "18eee2c4-ae24-4dd3-b38e-113d48e01325",
   "metadata": {},
   "outputs": [],
   "source": [
    "path = \"data/processed/atp_*.csv\" # Path where all cleaned csv files are stored\n",
    "all_files = glob.glob(path)"
   ]
  },
  {
   "cell_type": "code",
   "execution_count": 3,
   "id": "da9052d1-1f1f-4694-b035-2f6a696bfb8e",
   "metadata": {},
   "outputs": [
    {
     "name": "stdout",
     "output_type": "stream",
     "text": [
      "Found 9 cleaned CSV files.\n"
     ]
    }
   ],
   "source": [
    "# Print how many files were found\n",
    "print(f\"Found {len(all_files)} cleaned CSV files.\")"
   ]
  },
  {
   "cell_type": "code",
   "execution_count": 4,
   "id": "262118ea-b2d0-42ae-ac99-dd5fdb7e2aa7",
   "metadata": {},
   "outputs": [],
   "source": [
    "df_list = [] # List to store each csv's dataframe\n",
    "\n",
    "# Loop through each csv, read in as a dataframe, store in list\n",
    "for filename in all_files:\n",
    "    df = pd.read_csv(filename)\n",
    "    df_list.append(df)\n",
    "\n",
    "all_data = pd.concat(df_list, ignore_index = True) # Combine all dataframes into one"
   ]
  },
  {
   "cell_type": "code",
   "execution_count": 5,
   "id": "8375956b-930f-465d-9e94-4438009b328a",
   "metadata": {},
   "outputs": [
    {
     "name": "stdout",
     "output_type": "stream",
     "text": [
      "Combined dataset contains 22790 rows and 57 columns.\n"
     ]
    }
   ],
   "source": [
    "# Print total rows after combining\n",
    "print(f\"Combined dataset contains {all_data.shape[0]} rows and {all_data.shape[1]} columns.\")"
   ]
  },
  {
   "cell_type": "code",
   "execution_count": 6,
   "id": "7e30b14b-188c-461e-9a50-cafc5d832024",
   "metadata": {},
   "outputs": [],
   "source": [
    "# Drop helper column\n",
    "all_data = all_data.drop('Unnamed: 0', axis=1)\n",
    "\n",
    "# Remove NextGen Finals matches (exhibition style tournament)\n",
    "all_data = all_data[all_data[\"tourney_name\"] != \"NextGen Finals\"]\n",
    "\n",
    "# Fix inconsistenty in naming of US Open tournament\n",
    "df['tourney_name'] = df['tourney_name'].replace({\n",
    "    'Us Open': 'US Open',\n",
    "    'U.S. Open': 'US Open'\n",
    "})"
   ]
  },
  {
   "cell_type": "code",
   "execution_count": 7,
   "id": "a29606eb-58ed-4516-a888-6d44fbcf96b5",
   "metadata": {},
   "outputs": [
    {
     "name": "stdout",
     "output_type": "stream",
     "text": [
      "Saved combined dataset: tennis_clean_2016_2024.csv\n"
     ]
    }
   ],
   "source": [
    "# Save combined data\n",
    "all_data.to_csv(\"data/processed/tennis_clean_2016_2024.csv\", index=False)\n",
    "print(\"Saved combined dataset: tennis_clean_2016_2024.csv\")"
   ]
  }
 ],
 "metadata": {
  "kernelspec": {
   "display_name": "Python 3 (ipykernel)",
   "language": "python",
   "name": "python3"
  },
  "language_info": {
   "codemirror_mode": {
    "name": "ipython",
    "version": 3
   },
   "file_extension": ".py",
   "mimetype": "text/x-python",
   "name": "python",
   "nbconvert_exporter": "python",
   "pygments_lexer": "ipython3",
   "version": "3.12.7"
  }
 },
 "nbformat": 4,
 "nbformat_minor": 5
}
